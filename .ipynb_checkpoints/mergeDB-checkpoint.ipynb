{
 "cells": [
  {
   "cell_type": "code",
   "execution_count": 3,
   "metadata": {},
   "outputs": [],
   "source": [
    "import csv"
   ]
  },
  {
   "cell_type": "code",
   "execution_count": 44,
   "metadata": {},
   "outputs": [],
   "source": [
    "#read database\n",
    "database = open('database.csv','r+')\n",
    "\n",
    "#read header row\n",
    "headerRow = next(csv.reader(database))\n",
    "\n",
    "# create save file\n",
    "save = open('save.csv', 'w+')\n",
    "\n",
    "# init the writer\n",
    "writer = csv.writer(save)\n",
    "\n",
    "# write the new header\n",
    "writer.writerow(headerRow + ['province_id','province','city']);"
   ]
  },
  {
   "cell_type": "code",
   "execution_count": 45,
   "metadata": {},
   "outputs": [],
   "source": [
    "places = open('places.csv','r+')\n",
    "#read header row to skip it\n",
    "headerRow = next(csv.reader(places))"
   ]
  },
  {
   "cell_type": "code",
   "execution_count": 46,
   "metadata": {},
   "outputs": [
    {
     "name": "stdout",
     "output_type": "stream",
     "text": [
      "done\n"
     ]
    }
   ],
   "source": [
    "for row in csv.reader(database):\n",
    "    for place in csv.reader(places):\n",
    "        if row[7] == place[0]:\n",
    "            writer.writerow(row + [place[1],place[3],place[2]])\n",
    "            flag = True\n",
    "            break\n",
    "        flag = False\n",
    "    if(flag == False):\n",
    "         writer.writerow(row + ['','',''])\n",
    "            \n",
    "    places.seek(0)\n",
    "print('done')"
   ]
  },
  {
   "cell_type": "code",
   "execution_count": 47,
   "metadata": {},
   "outputs": [],
   "source": [
    "database.close()\n",
    "places.close()\n",
    "save.close()"
   ]
  },
  {
   "cell_type": "code",
   "execution_count": null,
   "metadata": {},
   "outputs": [],
   "source": []
  },
  {
   "cell_type": "code",
   "execution_count": null,
   "metadata": {},
   "outputs": [],
   "source": []
  }
 ],
 "metadata": {
  "kernelspec": {
   "display_name": "Python 3",
   "language": "python",
   "name": "python3"
  },
  "language_info": {
   "codemirror_mode": {
    "name": "ipython",
    "version": 3
   },
   "file_extension": ".py",
   "mimetype": "text/x-python",
   "name": "python",
   "nbconvert_exporter": "python",
   "pygments_lexer": "ipython3",
   "version": "3.6.4"
  }
 },
 "nbformat": 4,
 "nbformat_minor": 2
}
